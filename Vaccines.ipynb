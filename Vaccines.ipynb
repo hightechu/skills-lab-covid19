{
  "nbformat": 4,
  "nbformat_minor": 0,
  "metadata": {
    "colab": {
      "name": "Vaccines.ipynb",
      "provenance": [],
      "collapsed_sections": []
    },
    "kernelspec": {
      "name": "python3",
      "display_name": "Python 3"
    }
  },
  "cells": [
    {
      "cell_type": "markdown",
      "metadata": {
        "id": "Xq9PZoMsrGh_"
      },
      "source": [
        "## Exploration of COVID-19 vaccines\n",
        "\n",
        "I have separated them into two categories:\n",
        "\n",
        "- mRNA vaccines: More information [here](https://www.youtube.com/watch?v=WOvvyqJ-vwo) and [here](https://doi.org/10.1038/nrd.2017.243)\n",
        "\n",
        "- Viral vector vaccines: More information [here](https://www.youtube.com/watch?v=Q6qk6Wh6cXU) and [here](https://doi.org/10.3390/vaccines2030624)\n",
        "\n",
        "More information on vaccines can be found in these two scientific articles: [DNA](https://doi.org/10.1046/j.1365-2796.2003.01140.x), [RNA](https://doi.org/10.1016/j.vaccine.2012.04.060). A summary of most vaccines can also be found [here](https://doi.org/10.1016/S0140-6736(21)00306-8)\n",
        "\n",
        "Lastly I added results from vaccines that are still not peer-reviewed. Each vaccine's data comes from a press release offered by the company developing the vaccine. Since the data has not been reviewed by other scientists, it cannot be fully trusted to be accurate.\n",
        "\n",
        "Each vaccine's common name is given (usually the company's name), along with their scientific name for easier investigation of the vaccine in search engines.\n",
        "\n",
        "In particular, this notebook will explore the efficacy of the vaccines by replicating their results given the data from phase 3 clinical trials."
      ]
    },
    {
      "cell_type": "markdown",
      "metadata": {
        "id": "1A-SzbfJsqq4"
      },
      "source": [
        "#### Helper Functions"
      ]
    },
    {
      "cell_type": "code",
      "metadata": {
        "id": "tAwnEXg0suXk"
      },
      "source": [
        "def efficacy_risk_ratio(vaccine_n, infected_vaccine, placebo_n, infected_placebo, risk_only=False):\n",
        "    vaccine_risk = infected_vaccine/vaccine_n\n",
        "    placebo_risk = infected_placebo/placebo_n\n",
        "    print(\"Vaccine Efficacy using relative risk:\")\n",
        "    risk_ratio = vaccine_risk / placebo_risk\n",
        "    if risk_only:\n",
        "        ve = risk_ratio\n",
        "    else:\n",
        "        ve = 1-risk_ratio\n",
        "    print(ve * 100)"
      ],
      "execution_count": 37,
      "outputs": []
    },
    {
      "cell_type": "code",
      "metadata": {
        "id": "4NI1uosO1H6M"
      },
      "source": [
        "def efficacy_simplified(infected_vaccine, infected_placebo):\n",
        "    ratio = infected_vaccine / infected_placebo\n",
        "    ve = 1-ratio\n",
        "    print(ve * 100)"
      ],
      "execution_count": 2,
      "outputs": []
    },
    {
      "cell_type": "code",
      "metadata": {
        "id": "S3lPoigG1IFH"
      },
      "source": [
        "def efficacy_relative_risk(vaccine_n, infected_vaccine, placebo_n, infected_placebo):\n",
        "    vaccine_risk = infected_vaccine/vaccine_n\n",
        "    placebo_risk = infected_placebo/placebo_n\n",
        "    print(\"Vaccine Efficacy using relative risk:\")\n",
        "    ve = (placebo_risk - vaccine_risk) / placebo_risk\n",
        "    print(ve * 100)"
      ],
      "execution_count": 3,
      "outputs": []
    },
    {
      "cell_type": "code",
      "metadata": {
        "id": "TkqbCxqFryF7"
      },
      "source": [
        "from scipy.stats import beta\n",
        "def clopper_pearson(i,n,confidence=0.95):\n",
        "    k = n-i\n",
        "    alpha = (1 - confidence) / 2\n",
        "    lo = beta.ppf(alpha, k, n-k+1)\n",
        "    hi = beta.ppf(1 - alpha, k+1, n-k)\n",
        "    print(f\"Confidence Intervals = ({lo * 100},{hi * 100})\")"
      ],
      "execution_count": 4,
      "outputs": []
    },
    {
      "cell_type": "code",
      "metadata": {
        "id": "QQyBsKeh_Jmb"
      },
      "source": [
        "from scipy.stats.mstats import mquantiles\n",
        "def probabilistic_simulation(vaccine_n, infected_vaccine, plabebo_n, infected_placebo, confidence=0.95):\n",
        "    prob_infection_vaccine = beta.rvs(infected_vaccine + 1, vaccine_n - infected_vaccine + 1, size=1000)\n",
        "    prob_infection_placebo = beta.rvs(infected_placebo + 1, plabebo_n - infected_placebo + 1, size=1000)\n",
        "    simulated_cases = 100 * ( 1 - prob_infection_vaccine / prob_infection_placebo )\n",
        "    alpha = (1 - confidence) / 2\n",
        "    lo_c, hi_c = [alpha, 1 - alpha]\n",
        "    lo, med, hi = mquantiles(simulated_cases, prob=[lo_c, 0.5, hi_c])\n",
        "    print(\"Vaccine Efficacy using simulation:\")\n",
        "    print(med)\n",
        "    print(f\"Confidence Intervals = ({lo},{hi})\")"
      ],
      "execution_count": 5,
      "outputs": []
    },
    {
      "cell_type": "markdown",
      "metadata": {
        "id": "RJR8oEKrrHs0"
      },
      "source": [
        "# mRNA Vaccines"
      ]
    },
    {
      "cell_type": "markdown",
      "metadata": {
        "id": "50fjzD-krH4s"
      },
      "source": [
        "## Pfizer-BioNTech vaccine - BNT162b2\n",
        "\n",
        "Link to the scientific article [here](https://www.nejm.org/doi/full/10.1056/NEJMoa2034577)"
      ]
    },
    {
      "cell_type": "markdown",
      "metadata": {
        "id": "xolVPhAXrXZ7"
      },
      "source": [
        "## Data summary\n",
        "\n",
        "Published on December 31, 2020\n",
        "\n",
        "**Trial timeframe**: July 27, 2020, and November 14, 2020 (110 days)\n",
        "\n",
        "- Interim analysis of the trial. There will be further publications with longer follow-up time and segregated by specific groups.\n",
        "\n",
        "### Initial data\n",
        "\n",
        "Doses were given 21 days apart.\n",
        "\n",
        "**Participants**: 43,448 people. Age: 16 years or older\n",
        "\n",
        "**Vaccinated**: 21,720\n",
        "\n",
        "**Placebo**: 21,728\n",
        "\n",
        "--------\n",
        "\n",
        "### Median follow-up of 2 months\n",
        "\n",
        "5,742 people were lost in the process (e.g. did not show for vaccination,forgot about the follow-up, etc.)\n",
        "\n",
        "#### First dose (day 1):\n",
        "\n",
        "**Participants**: 37,706 people.\n",
        "\n",
        "**Received dose 1**: 18,860 people.\n",
        "\n",
        "**Received placebo dose 1**: 18,846 people.\n",
        "\n",
        "#### People lost after first dose:\n",
        "\n",
        "620 people were lost in the process after dose 1.\n",
        "\n",
        "**Vaccinated**: 304 people.\n",
        "\n",
        "- People with adverse effects: 28\n",
        "\n",
        "- People who died: 1\n",
        "\n",
        "**Placebo**: 316 people.\n",
        "\n",
        "- People with adverse effects: 18\n",
        "\n",
        "- People who died: 1\n",
        "\n",
        "--------\n",
        "\n",
        "#### Second dose (day 22):\n",
        "\n",
        "**Participants**: 37,086 people.\n",
        "\n",
        "**Received dose 2**: 18,556 people.\n",
        "\n",
        "**Received placebo dose 2**: 18,530 people.\n",
        "\n",
        "#### People lost after second dose:\n",
        "\n",
        "143 people were lost in the process after dose 2.\n",
        "\n",
        "**Vaccinated**: 48 people.\n",
        "\n",
        "- People who died: 1\n",
        "\n",
        "**Placebo**: 95 people.\n",
        "\n",
        "- People who died: 2\n",
        "\n",
        "People died from causes unrelated to COVID-19.\n",
        "\n",
        "**Severe COVID-19 cases**: 10 (1 in vaccine group)\n"
      ]
    },
    {
      "cell_type": "markdown",
      "metadata": {
        "id": "wfIShqf-rgE5"
      },
      "source": [
        "## Vaccine Efficacy (VE) of BNT162b2"
      ]
    },
    {
      "cell_type": "markdown",
      "metadata": {
        "id": "ERIrZUT4rmeB"
      },
      "source": [
        "To calculate the VE, the trial tracked the number of COVID-19 incidences that occured 7 days after administering the second dose. Keep in mind that estimated median viral incubation period is 5 days. Also, the data used to calculate VE is slightly different from above as the data they used for their results required specific criteria:\n",
        "\n",
        "- Ages between 16 and 64\n",
        "- Excluded some people with preconditions (illness)\n",
        "\n",
        "The excluded participants will be analysed separately by Pfizer at a later date."
      ]
    },
    {
      "cell_type": "code",
      "metadata": {
        "id": "bIQwLtgLrfVJ"
      },
      "source": [
        "vaccine_n = 18198\n",
        "infected_vaccine = 8\n",
        "placebo_n = 18325\n",
        "infected_placebo = 162"
      ],
      "execution_count": 6,
      "outputs": []
    },
    {
      "cell_type": "code",
      "metadata": {
        "colab": {
          "base_uri": "https://localhost:8080/"
        },
        "id": "pYPiTO27rcvB",
        "outputId": "22dffaa7-477d-4678-9548-5f8210f9f670"
      },
      "source": [
        "efficacy_risk_ratio(vaccine_n, infected_vaccine, placebo_n, infected_placebo)"
      ],
      "execution_count": 7,
      "outputs": [
        {
          "output_type": "stream",
          "text": [
            "Vaccine Efficacy using relative risk:\n",
            "95.02726524010913\n"
          ],
          "name": "stdout"
        }
      ]
    },
    {
      "cell_type": "code",
      "metadata": {
        "colab": {
          "base_uri": "https://localhost:8080/"
        },
        "id": "8vADnvkZrDu_",
        "outputId": "97602388-b9d0-485a-e33c-6ad85d2ef8c7"
      },
      "source": [
        "efficacy_relative_risk(vaccine_n, infected_vaccine, placebo_n, infected_placebo)"
      ],
      "execution_count": 8,
      "outputs": [
        {
          "output_type": "stream",
          "text": [
            "Vaccine Efficacy using relative risk:\n",
            "95.02726524010914\n"
          ],
          "name": "stdout"
        }
      ]
    },
    {
      "cell_type": "code",
      "metadata": {
        "colab": {
          "base_uri": "https://localhost:8080/"
        },
        "id": "Aqf_Hwv1rvBq",
        "outputId": "d24f87e4-2288-446c-d68e-fd8ea517fcb3"
      },
      "source": [
        "efficacy_simplified(infected_vaccine, infected_placebo)"
      ],
      "execution_count": 9,
      "outputs": [
        {
          "output_type": "stream",
          "text": [
            "95.06172839506173\n"
          ],
          "name": "stdout"
        }
      ]
    },
    {
      "cell_type": "markdown",
      "metadata": {
        "id": "K0mqdkpdrvip"
      },
      "source": [
        "Computing the confidence intervals:\n",
        "\n",
        "The article says they used Clopper-Pearson method and references a book.\n",
        "\n",
        "I have taken the liberty to suggest a more intuitive [scientific article](https://doi.org/10.1111/sjos.12021) to obtain the method which I have coded below.\n",
        "\n",
        "The confidence interval that we obtained is not exactly the one obtained by Pfizer, as they adjust it using surveillance time. This method is not explained and as such I could not replicate it."
      ]
    },
    {
      "cell_type": "code",
      "metadata": {
        "colab": {
          "base_uri": "https://localhost:8080/"
        },
        "id": "w7rwElU1r1oC",
        "outputId": "c72d7588-cefc-4da2-ae98-44aa9223ce3f"
      },
      "source": [
        "clopper_pearson(infected_vaccine, infected_placebo)"
      ],
      "execution_count": 10,
      "outputs": [
        {
          "output_type": "stream",
          "text": [
            "Confidence Intervals = (90.50171730823362,97.84418800946054)\n"
          ],
          "name": "stdout"
        }
      ]
    },
    {
      "cell_type": "code",
      "metadata": {
        "colab": {
          "base_uri": "https://localhost:8080/"
        },
        "id": "hm8cdIkDHVOF",
        "outputId": "09a010f6-1ab9-401d-f1bb-07201af7bbd1"
      },
      "source": [
        "probabilistic_simulation(vaccine_n, infected_vaccine, placebo_n, infected_placebo)"
      ],
      "execution_count": 11,
      "outputs": [
        {
          "output_type": "stream",
          "text": [
            "Vaccine Efficacy using simulation:\n",
            "94.73012874728929\n",
            "Confidence Intervals = (89.97904400940322,97.56048127504116)\n"
          ],
          "name": "stdout"
        }
      ]
    },
    {
      "cell_type": "markdown",
      "metadata": {
        "id": "MWDOif8kr3TB"
      },
      "source": [
        "## Moderna vaccine - mRNA-1273\n",
        "\n",
        "Link to the scientific article [here](https://www.nejm.org/doi/10.1056/NEJMoa2035389)"
      ]
    },
    {
      "cell_type": "markdown",
      "metadata": {
        "id": "-kvMHk3Fr4EK"
      },
      "source": [
        "## Data summary\n",
        "\n",
        "Published on February 4, 2021\n",
        "\n",
        "**Trial timeframe**: July 27, 2020, and November 25, 2020 (121 days)\n",
        "\n",
        "- This is also an interim analysis of the trial.\n",
        "\n",
        "### Initial data\n",
        "\n",
        "Doses were given 28 days apart.\n",
        "\n",
        "**Participants**: 30,420 people. Age: 18 years or older\n",
        "\n",
        "**Vaccinated**: 15,210\n",
        "\n",
        "**Placebo**: 15,210\n",
        "\n",
        "--------\n",
        "\n",
        "### Median follow-up of 63 days\n",
        "\n",
        "69 people were lost in the process (e.g. did not show for vaccination,forgot about the follow-up, etc.)\n",
        "\n",
        "#### First dose (day 1):\n",
        "\n",
        "**Participants**: 30,351 people.\n",
        "\n",
        "**Received vaccine dose 1**: 15,181 people.\n",
        "\n",
        "**Received placebo dose 1**: 15,170 people.\n",
        "\n",
        "#### People lost after first dose:\n",
        "\n",
        "1,203 people were excluded in the process after dose 1. This means that they were positive for COVID-19 virus at baseline, had missing data, or were lost in the process.\n",
        "\n",
        "**Vaccinated**: 631 people.\n",
        "\n",
        "**Placebo**: 572 people.\n",
        "\n",
        "--------\n",
        "\n",
        "#### Second dose (day 29):\n",
        "\n",
        "**Participants**: 29,148 people.\n",
        "\n",
        "**Received vaccine dose 2**: 14,550 people.\n",
        "\n",
        "**Received placebo dose 2**: 14,598 people.\n",
        "\n",
        "#### People lost after second dose (Per-protocol analysis):\n",
        "\n",
        "941 people were lost in the process after dose 2.\n",
        "\n",
        "**Vaccinated**: 416 people.\n",
        "\n",
        "**Placebo**: 525 people.\n",
        "\n",
        "All the people who got the second dose (including lost cases) were included in a separate analysis (Modified intention-to-treat analysis).\n",
        "\n",
        "**Fatalities**: 1 person.\n",
        "\n",
        "**Severe COVID-19 cases**: 30 people.\n",
        "\n",
        "All severe cases and fatalities happened in the placebo group.\n"
      ]
    },
    {
      "cell_type": "markdown",
      "metadata": {
        "id": "ihpaZnRer5pq"
      },
      "source": [
        "## Vaccine Efficacy (VE) of mRNA-1273"
      ]
    },
    {
      "cell_type": "markdown",
      "metadata": {
        "id": "NoSAlR-Br7ra"
      },
      "source": [
        "To calculate the VE, the trial tracked the number of COVID-19 incidences that occured 7 days after administering the second dose for the per-protocol analysis. The trial tracked incidences that occured 14 days after administering the second dose for the intention-to-treat analysis. Keep in mind that estimated median viral incubation period is 5 days. The data used to calculate VE comes from the per-protocol population. It includes data after the loss of people from the second dose.\n",
        "\n",
        "This data also includes people with age above 65, contrary to Pfizer. Moderna also utilizes the [Cox proportional hazards model](https://dx.doi.org/10.1128%2FAAC.48.8.2787-2792.2004), which unfortunately requires the data from the trial to create the regression. This model provides the 'Hazard ratio', which can be calculated $1 - VE$. The model also provides confidence intervals, which we cannot replicate and therefore will use the more simple Clopper-Pearson method to approximate them and also do a probablistic simulation of the data."
      ]
    },
    {
      "cell_type": "markdown",
      "metadata": {
        "id": "1zN7tAqasQQ6"
      },
      "source": [
        "### Per-protocol analysis"
      ]
    },
    {
      "cell_type": "code",
      "metadata": {
        "id": "Va8hWsRqr9IS",
        "colab": {
          "base_uri": "https://localhost:8080/"
        },
        "outputId": "8a61f967-bc35-424c-f751-faa00c162d8b"
      },
      "source": [
        "vaccine_n = 14134\n",
        "infected_vaccine = 11\n",
        "placebo_n = 14073\n",
        "infected_placebo = 185\n",
        "\n",
        "efficacy_risk_ratio(vaccine_n, infected_vaccine, placebo_n, infected_placebo)"
      ],
      "execution_count": 12,
      "outputs": [
        {
          "output_type": "stream",
          "text": [
            "Vaccine Efficacy using relative risk:\n",
            "94.07971577067374\n"
          ],
          "name": "stdout"
        }
      ]
    },
    {
      "cell_type": "code",
      "metadata": {
        "colab": {
          "base_uri": "https://localhost:8080/"
        },
        "id": "Uptm_GlRsUy5",
        "outputId": "f8f1b076-4642-478d-ece7-048266c6bae0"
      },
      "source": [
        "clopper_pearson(infected_vaccine, infected_placebo)"
      ],
      "execution_count": 13,
      "outputs": [
        {
          "output_type": "stream",
          "text": [
            "Confidence Intervals = (89.61026975138763,96.9947520495872)\n"
          ],
          "name": "stdout"
        }
      ]
    },
    {
      "cell_type": "code",
      "metadata": {
        "colab": {
          "base_uri": "https://localhost:8080/"
        },
        "id": "RLAVShwcoKZj",
        "outputId": "dfef1a56-0937-44be-84de-9345c04eee1b"
      },
      "source": [
        "probabilistic_simulation(vaccine_n, infected_vaccine, placebo_n, infected_placebo)"
      ],
      "execution_count": 14,
      "outputs": [
        {
          "output_type": "stream",
          "text": [
            "Vaccine Efficacy using simulation:\n",
            "93.58831595971176\n",
            "Confidence Intervals = (88.99624925771101,96.74944138428421)\n"
          ],
          "name": "stdout"
        }
      ]
    },
    {
      "cell_type": "markdown",
      "metadata": {
        "id": "1eHgAfyMsYvx"
      },
      "source": [
        "### Intention-to-treat analysis"
      ]
    },
    {
      "cell_type": "code",
      "metadata": {
        "id": "z7_Ya4VIsW4B",
        "colab": {
          "base_uri": "https://localhost:8080/"
        },
        "outputId": "18d022d2-2300-4946-9ae1-7b710b5a53ff"
      },
      "source": [
        "vaccine_n = 14550\n",
        "infected_vaccine = 12\n",
        "placebo_n = 14598\n",
        "infected_placebo = 204\n",
        "\n",
        "efficacy_risk_ratio(vaccine_n, infected_vaccine, placebo_n, infected_placebo)"
      ],
      "execution_count": 15,
      "outputs": [
        {
          "output_type": "stream",
          "text": [
            "Vaccine Efficacy using relative risk:\n",
            "94.09824135839902\n"
          ],
          "name": "stdout"
        }
      ]
    },
    {
      "cell_type": "code",
      "metadata": {
        "colab": {
          "base_uri": "https://localhost:8080/"
        },
        "id": "s9m8RKC-sa5S",
        "outputId": "8f57b688-e822-4d2c-ed97-d1b1f5d2696f"
      },
      "source": [
        "clopper_pearson(infected_vaccine, infected_placebo)"
      ],
      "execution_count": 16,
      "outputs": [
        {
          "output_type": "stream",
          "text": [
            "Confidence Intervals = (89.95021537999554,96.92389201601304)\n"
          ],
          "name": "stdout"
        }
      ]
    },
    {
      "cell_type": "code",
      "metadata": {
        "colab": {
          "base_uri": "https://localhost:8080/"
        },
        "id": "bOGlGmMDoT2T",
        "outputId": "04559f01-a9be-4f4d-98d8-52051ff7a4d4"
      },
      "source": [
        "probabilistic_simulation(vaccine_n, infected_vaccine, placebo_n, infected_placebo)"
      ],
      "execution_count": 17,
      "outputs": [
        {
          "output_type": "stream",
          "text": [
            "Vaccine Efficacy using simulation:\n",
            "93.73372589914821\n",
            "Confidence Intervals = (89.13599095360979,96.75586694726483)\n"
          ],
          "name": "stdout"
        }
      ]
    },
    {
      "cell_type": "markdown",
      "metadata": {
        "id": "hDiQczQnsfgq"
      },
      "source": [
        "# Viral vector Vaccines"
      ]
    },
    {
      "cell_type": "markdown",
      "metadata": {
        "id": "692I9WjKsgEK"
      },
      "source": [
        "## Oxford-AstraZeneca vaccine (ChAdOx1) - AZD1222\n",
        "\n",
        "Link to the scientific article [here] (https://doi.org/10.1016/S0140-6736(20)32661-1)\n",
        "\n",
        "Latest preprint (non peer-reviewed) article [here] (https://papers.ssrn.com/sol3/papers.cfm?abstract_id=3777268)"
      ]
    },
    {
      "cell_type": "markdown",
      "metadata": {
        "id": "y6_Rf2LashaS"
      },
      "source": [
        "## Data summary\n",
        "\n",
        "Published on February 4, 2021\n",
        "\n",
        "The article includes details of phase 1 trials that are not included in the analysis. Therefore, we focus on phase 3 cohorts (COV002 and COV003) which take part in the UK and Brazil.\n",
        "\n",
        "**Timeframe for all cohorts**: May 28, 2020, and Nov 21, 2020 (177 days)\n",
        "\n",
        "### Initial data\n",
        "\n",
        "**Participants**: 23,848 people\n",
        "\n",
        "**Vaccinated**: 12,082 people\n",
        "\n",
        "**Placebo**: 11,766 people\n",
        "\n",
        "- This is also an interim analysis of the trial.\n",
        "\n",
        "### Interim data\n",
        "\n",
        "12,935 people were excluded from the interim analysis.\n",
        "\n",
        "### **Cumulative cohorts**:\n",
        "\n",
        "**Participants**: 11,636 people. Age: 18 years or older\n",
        "\n",
        "**Vaccinated**: 5,807 people.\n",
        "\n",
        "**Placebo**: 5,829 people.\n",
        "\n",
        "### **COV002** (UK):\n",
        "\n",
        "Two dosage groups: LD/SD and SD/SD\n",
        "\n",
        "- LD stands for Low Dose and SD for Standard Dose\n",
        "\n",
        "**LD/SD timeframe**: Started on May 31, 2020\n",
        "\n",
        "**SD/SD timeframe**: Started on June 9, 2020\n",
        "\n",
        "**LD/SD Participants**: 2,741 people. Age: 18 years or older\n",
        "\n",
        "- **Vaccinated**: 1,367 people.\n",
        "\n",
        "- **Placebo**: 1,374 people.\n",
        "\n",
        "**SD/SD Participants**: 4,807 people. Age: 18 years or older\n",
        "\n",
        "- **Vaccinated**: 2,377 people.\n",
        "\n",
        "- **Placebo**: 2,430 people.\n",
        "\n",
        "Median follow-up of 84 days (LD/SD group) and 69 days (SD/SD group)\n",
        "\n",
        "### **COV003** (Brazil):\n",
        "\n",
        "**Trial timeframe**: Started on June 23, 2020\n",
        "\n",
        "**Participants**: 4,088 people. Age: 18 years or older\n",
        "\n",
        "**Vaccinated**: 2,063 people.\n",
        "\n",
        "**Placebo**: 2,025 people.\n",
        "\n",
        "Median follow-up of 36 days\n",
        "\n",
        "--------\n",
        "\n",
        "**Fatalities**: 1 person.\n",
        "\n",
        "**Severe COVID-19 cases**: 2 people.\n",
        "\n",
        "**Hospitalisation**: 18 people.\n",
        "\n",
        "2 hospitalisations happened in the vaccine group. All severe COVID-19 cases and fatalities happened in the placebo group."
      ]
    },
    {
      "cell_type": "markdown",
      "metadata": {
        "id": "k60PXlj5si6q"
      },
      "source": [
        "## Vaccine Efficacy (VE) of AZD1222"
      ]
    },
    {
      "cell_type": "markdown",
      "metadata": {
        "id": "zC5DQVXtskXq"
      },
      "source": [
        "To calculate the VE, the trial tracked the number of COVID-19 incidences that occured 14 days after administering the second dose. Keep in mind that estimated median viral incubation period is 5 days. The data used to calculate VE comes from the all the cohorts.\n",
        "\n",
        "This data also includes people with age above 56. AstraZeneca utilizes a [Poisson regression with robust variance analysis](https://doi.org/10.1093/aje/kwh090), which unfortunately requires the data from the trial to create the regression. The model provides confidence intervals, which we cannot replicate and therefore will use the more simple Clopper-Pearson method to approximate them."
      ]
    },
    {
      "cell_type": "code",
      "metadata": {
        "id": "JQXMctnFsmma",
        "colab": {
          "base_uri": "https://localhost:8080/"
        },
        "outputId": "b264c19d-54a2-4f29-a974-d28bf65fd8eb"
      },
      "source": [
        "vaccine_n = 5807\n",
        "infected_vaccine = 30\n",
        "placebo_n = 5829\n",
        "infected_placebo = 101\n",
        "\n",
        "efficacy_risk_ratio(vaccine_n, infected_vaccine, placebo_n, infected_placebo)"
      ],
      "execution_count": 38,
      "outputs": [
        {
          "output_type": "stream",
          "text": [
            "Vaccine Efficacy using relative risk:\n",
            "70.18449907673737\n"
          ],
          "name": "stdout"
        }
      ]
    },
    {
      "cell_type": "code",
      "metadata": {
        "colab": {
          "base_uri": "https://localhost:8080/"
        },
        "id": "7hs3uYigsoD6",
        "outputId": "d0b09a42-bfc5-41e3-a514-9248e82304d5"
      },
      "source": [
        "clopper_pearson(infected_vaccine, infected_placebo)"
      ],
      "execution_count": 19,
      "outputs": [
        {
          "output_type": "stream",
          "text": [
            "Confidence Intervals = (60.3852871352311,78.98077935048298)\n"
          ],
          "name": "stdout"
        }
      ]
    },
    {
      "cell_type": "code",
      "metadata": {
        "colab": {
          "base_uri": "https://localhost:8080/"
        },
        "id": "qGfkqjg8ofQ0",
        "outputId": "d3b23462-c17e-47a0-f7ac-78952ad89171"
      },
      "source": [
        "probabilistic_simulation(vaccine_n, infected_vaccine, placebo_n, infected_placebo)"
      ],
      "execution_count": 20,
      "outputs": [
        {
          "output_type": "stream",
          "text": [
            "Vaccine Efficacy using simulation:\n",
            "69.45996322948899\n",
            "Confidence Intervals = (55.87004490098043,80.40055640437863)\n"
          ],
          "name": "stdout"
        }
      ]
    },
    {
      "cell_type": "markdown",
      "metadata": {
        "id": "VEbpSsBGp7Jb"
      },
      "source": [
        "## We have also seen the AstraZeneca vaccine be the target of much doubt in the media.\n",
        "\n",
        "### We will give the example of the thrombosis events (blood clots)\n",
        "\n",
        "The data can be found on the Supplementary Material section of the scientific article linked above. The data can be directly found on page 20 of this [linked document](https://www.thelancet.com/cms/10.1016/S0140-6736(20)32661-1/attachment/75bff1ea-804f-4c66-adc1-2f7d0f9b4550/mmc1.pdf) \n",
        "\n",
        "Previously we talked about Vaccine Efficacy in preventing the COVID-19 disease. Now the Vaccine Efficacy relates to giving you blood clots."
      ]
    },
    {
      "cell_type": "code",
      "metadata": {
        "colab": {
          "base_uri": "https://localhost:8080/"
        },
        "id": "BzdCATkTrEK1",
        "outputId": "6c62fb96-3ef9-47fe-80e2-b015578dfa03"
      },
      "source": [
        "vaccine_n = 5807\n",
        "thrombosis_vaccine = 4\n",
        "placebo_n = 5829\n",
        "thrombosis_placebo = 8\n",
        "\n",
        "efficacy_risk_ratio(vaccine_n, thrombosis_vaccine, placebo_n, thrombosis_placebo)"
      ],
      "execution_count": 47,
      "outputs": [
        {
          "output_type": "stream",
          "text": [
            "Vaccine Efficacy using relative risk:\n",
            "49.81057344584122\n"
          ],
          "name": "stdout"
        }
      ]
    },
    {
      "cell_type": "code",
      "metadata": {
        "colab": {
          "base_uri": "https://localhost:8080/"
        },
        "id": "VZyt-o65rjjm",
        "outputId": "6d2c4027-abc8-49f9-a328-7505a9d744ae"
      },
      "source": [
        "clopper_pearson(thrombosis_vaccine, thrombosis_placebo)"
      ],
      "execution_count": 48,
      "outputs": [
        {
          "output_type": "stream",
          "text": [
            "Confidence Intervals = (15.701277048705803,84.2987229512942)\n"
          ],
          "name": "stdout"
        }
      ]
    },
    {
      "cell_type": "code",
      "metadata": {
        "colab": {
          "base_uri": "https://localhost:8080/"
        },
        "id": "KNucbRNGsHur",
        "outputId": "6ea33928-c140-4d18-afad-ceb24513808f"
      },
      "source": [
        "probabilistic_simulation(vaccine_n, thrombosis_vaccine, placebo_n, thrombosis_placebo)"
      ],
      "execution_count": 49,
      "outputs": [
        {
          "output_type": "stream",
          "text": [
            "Vaccine Efficacy using simulation:\n",
            "44.40061000186899\n",
            "Confidence Intervals = (-62.12550409115327,85.19205170053736)\n"
          ],
          "name": "stdout"
        }
      ]
    },
    {
      "cell_type": "markdown",
      "metadata": {
        "id": "aekf2qAIssFa"
      },
      "source": [
        "## Sputnik V vaccine - Gam-COVID-Vac (rAd26,rAd5)\n",
        "\n",
        "Link to the scientific article [here](https://doi.org/10.1016/S0140-6736(21)00234-8)"
      ]
    },
    {
      "cell_type": "markdown",
      "metadata": {
        "id": "39THlhrrsvUa"
      },
      "source": [
        "## Data summary\n",
        "\n",
        "Published on February 2, 2021\n",
        "\n",
        "**Trial timeframe**: Sept 7, 2020 and Nov 24, 2020 (78 days)\n",
        "\n",
        "- This is also an interim analysis of the trial.\n",
        "\n",
        "### Initial data\n",
        "\n",
        "Doses were given 21 days apart.\n",
        "\n",
        "**Participants**: 21,977 people. Age: 18 years or older (max 87)\n",
        "\n",
        "**Vaccinated**: 16,501\n",
        "\n",
        "**Placebo**: 5,476\n",
        "\n",
        "--------\n",
        "\n",
        "### Median follow-up of 48 days\n",
        "\n",
        "115 people were lost in the process (e.g. did not show for vaccination,forgot about the follow-up, etc.)\n",
        "\n",
        "#### First dose (day 1):\n",
        "\n",
        "**Participants**: 21,862 people.\n",
        "\n",
        "**Received vaccine dose 1**: 16,427 people.\n",
        "\n",
        "**Received placebo dose 1**: 5,435 people.\n",
        "\n",
        "#### People lost after first dose:\n",
        "\n",
        "1,996 people were excluded in the process after dose 1. This means that they were positive for COVID-19 virus at baseline, had missing data, or were lost in the process.\n",
        "\n",
        "**Vaccinated**: 1,463 people.\n",
        "\n",
        "**Placebo**: 533 people.\n",
        "\n",
        "--------\n",
        "\n",
        "#### Second dose (day 22):\n",
        "\n",
        "**Participants**: 19,866 people.\n",
        "\n",
        "**Received vaccine dose 2**: 14,964 people.\n",
        "\n",
        "**Received placebo dose 2**: 4,902 people.\n",
        "\n",
        "#### People lost after second dose:\n",
        "\n",
        "7,570 people were lost in the process after dose 2.\n",
        "\n",
        "**Vaccinated**: 5,706 people.\n",
        "\n",
        "**Placebo**: 1,864 people.\n",
        "\n",
        "All the people who got the second dose (including lost cases) were included in the efficacy analysis.\n",
        "\n",
        "**Severe COVID-19 cases**: 20 people.\n",
        "\n",
        "All severe cases happened in the placebo group.\n"
      ]
    },
    {
      "cell_type": "markdown",
      "metadata": {
        "id": "tQ8elu_0szG6"
      },
      "source": [
        "## Vaccine Efficacy (VE) of Gam-COVID-Vac"
      ]
    },
    {
      "cell_type": "markdown",
      "metadata": {
        "id": "zsao9zHcs0oi"
      },
      "source": [
        "To calculate the VE, the trial tracked the number of COVID-19 incidences that occured 21 days after administering the first dose (Day of second dose). Keep in mind that estimated median viral incubation period is 5 days.\n",
        "\n",
        "This data also includes people with age above 60. I don't know which model they used to calculate the confidence intervals and therefore will use the more simple Clopper-Pearson method to approximate them."
      ]
    },
    {
      "cell_type": "code",
      "metadata": {
        "id": "aVhxpTRvsyRj",
        "colab": {
          "base_uri": "https://localhost:8080/"
        },
        "outputId": "e220d666-1f3a-453e-d853-f99ce638ceee"
      },
      "source": [
        "vaccine_n = 14964\n",
        "infected_vaccine = 16\n",
        "placebo_n = 4902\n",
        "infected_placebo = 62\n",
        "\n",
        "efficacy_risk_ratio(vaccine_n, infected_vaccine, placebo_n, infected_placebo)"
      ],
      "execution_count": 21,
      "outputs": [
        {
          "output_type": "stream",
          "text": [
            "Vaccine Efficacy using relative risk:\n",
            "91.54616240266962\n"
          ],
          "name": "stdout"
        }
      ]
    },
    {
      "cell_type": "code",
      "metadata": {
        "colab": {
          "base_uri": "https://localhost:8080/"
        },
        "id": "0wMPt7pps3es",
        "outputId": "05b03535-f42f-4e72-be74-cbad8314a677"
      },
      "source": [
        "clopper_pearson(infected_vaccine, infected_placebo)"
      ],
      "execution_count": 22,
      "outputs": [
        {
          "output_type": "stream",
          "text": [
            "Confidence Intervals = (61.5027546671032,84.47300065357939)\n"
          ],
          "name": "stdout"
        }
      ]
    },
    {
      "cell_type": "markdown",
      "metadata": {
        "id": "mu5bwYiXtyX-"
      },
      "source": [
        "As you can see, the Vaccine Efficacy lies outside of the clopper pearson confidence intervals. This happens because the vaccine and placebo groups significantly differ. Therefore a more conservative efficacy could be obtained within this range."
      ]
    },
    {
      "cell_type": "code",
      "metadata": {
        "colab": {
          "base_uri": "https://localhost:8080/"
        },
        "id": "B7j-dbFGuHzF",
        "outputId": "4c6a1262-6e0a-4837-d456-9b5ef749490a"
      },
      "source": [
        "print(\"Conservative Vaccine Efficacy:\")\n",
        "low_ci = 0.615027546671032\n",
        "high_ci = 0.8447300065357939\n",
        "cve = (low_ci + high_ci) * 50\n",
        "print(cve)"
      ],
      "execution_count": 23,
      "outputs": [
        {
          "output_type": "stream",
          "text": [
            "Conservative Vaccine Efficacy:\n",
            "72.9878776603413\n"
          ],
          "name": "stdout"
        }
      ]
    },
    {
      "cell_type": "markdown",
      "metadata": {
        "id": "loD4Ak6KomBc"
      },
      "source": [
        "And we can compare it to the simulated data"
      ]
    },
    {
      "cell_type": "code",
      "metadata": {
        "colab": {
          "base_uri": "https://localhost:8080/"
        },
        "id": "9oLVxVRIogjK",
        "outputId": "29a4e799-6bd2-40d2-ee50-0e7bcc39def7"
      },
      "source": [
        "probabilistic_simulation(vaccine_n, infected_vaccine, placebo_n, infected_placebo)"
      ],
      "execution_count": 24,
      "outputs": [
        {
          "output_type": "stream",
          "text": [
            "Vaccine Efficacy using simulation:\n",
            "91.34818721914768\n",
            "Confidence Intervals = (85.88302629677906,94.97242928659664)\n"
          ],
          "name": "stdout"
        }
      ]
    },
    {
      "cell_type": "markdown",
      "metadata": {
        "id": "UuFGjCG9s6rD"
      },
      "source": [
        "# Non peer-reviewed vaccines (Press releases)"
      ]
    },
    {
      "cell_type": "markdown",
      "metadata": {
        "id": "tZYC6v16s97z"
      },
      "source": [
        "## Johnson & Johnson Janssen vaccine - Ad26.COV2.S (JNJ-78436735)\n",
        "\n",
        "Link to the press release [here](https://www.jnj.com/johnson-johnson-announces-single-shot-janssen-covid-19-vaccine-candidate-met-primary-endpoints-in-interim-analysis-of-its-phase-3-ensemble-trial)\n",
        "\n",
        "Protocol [here](https://www.jnj.com/coronavirus/ensemble-1-study-protocol)"
      ]
    },
    {
      "cell_type": "markdown",
      "metadata": {
        "id": "irTkQz06tBJz"
      },
      "source": [
        "### Mild-Moderate"
      ]
    },
    {
      "cell_type": "code",
      "metadata": {
        "id": "GmQYW4nMs8R7",
        "colab": {
          "base_uri": "https://localhost:8080/"
        },
        "outputId": "4b35fda6-596d-4dbb-f1bd-40002f040e1a"
      },
      "source": [
        "vaccine_n = 21895\n",
        "infected_vaccine = 66\n",
        "placebo_n = 21888\n",
        "infected_placebo = 193\n",
        "\n",
        "efficacy_risk_ratio(vaccine_n, infected_vaccine, placebo_n, infected_placebo)"
      ],
      "execution_count": 25,
      "outputs": [
        {
          "output_type": "stream",
          "text": [
            "Vaccine Efficacy using relative risk:\n",
            "65.8140418175773\n"
          ],
          "name": "stdout"
        }
      ]
    },
    {
      "cell_type": "code",
      "metadata": {
        "colab": {
          "base_uri": "https://localhost:8080/"
        },
        "id": "YjOzQ8nctDBs",
        "outputId": "9dbfbc5e-417d-477f-af4e-c3d127252c6c"
      },
      "source": [
        "clopper_pearson(infected_vaccine, infected_placebo)"
      ],
      "execution_count": 26,
      "outputs": [
        {
          "output_type": "stream",
          "text": [
            "Confidence Intervals = (58.64776232985921,72.46444585712413)\n"
          ],
          "name": "stdout"
        }
      ]
    },
    {
      "cell_type": "code",
      "metadata": {
        "colab": {
          "base_uri": "https://localhost:8080/"
        },
        "id": "GZA13754opoc",
        "outputId": "edd77bfe-327e-4b2c-b98f-1fb7621e79bb"
      },
      "source": [
        "probabilistic_simulation(vaccine_n, infected_vaccine, placebo_n, infected_placebo)"
      ],
      "execution_count": 27,
      "outputs": [
        {
          "output_type": "stream",
          "text": [
            "Vaccine Efficacy using simulation:\n",
            "65.94608572116161\n",
            "Confidence Intervals = (54.54184747042848,74.16487342476853)\n"
          ],
          "name": "stdout"
        }
      ]
    },
    {
      "cell_type": "markdown",
      "metadata": {
        "id": "hjJ1VEk4tDMb"
      },
      "source": [
        "### Severe"
      ]
    },
    {
      "cell_type": "code",
      "metadata": {
        "id": "JRU3lgs2tDWD",
        "colab": {
          "base_uri": "https://localhost:8080/"
        },
        "outputId": "4e6c29e4-0d4f-41d0-ec42-82c52213d6b6"
      },
      "source": [
        "vaccine_n = 21895\n",
        "infected_vaccine = 5\n",
        "placebo_n = 21888\n",
        "infected_placebo = 34\n",
        "\n",
        "efficacy_risk_ratio(vaccine_n, infected_vaccine, placebo_n, infected_placebo)"
      ],
      "execution_count": 28,
      "outputs": [
        {
          "output_type": "stream",
          "text": [
            "Vaccine Efficacy using relative risk:\n",
            "85.2988192308209\n"
          ],
          "name": "stdout"
        }
      ]
    },
    {
      "cell_type": "code",
      "metadata": {
        "colab": {
          "base_uri": "https://localhost:8080/"
        },
        "id": "-3R0RbtVtK2G",
        "outputId": "83873fdd-3ef7-47a2-9a88-4e49159ab9f2"
      },
      "source": [
        "clopper_pearson(infected_vaccine, infected_placebo)"
      ],
      "execution_count": 29,
      "outputs": [
        {
          "output_type": "stream",
          "text": [
            "Confidence Intervals = (68.94342696048746,95.04715447438227)\n"
          ],
          "name": "stdout"
        }
      ]
    },
    {
      "cell_type": "code",
      "metadata": {
        "colab": {
          "base_uri": "https://localhost:8080/"
        },
        "id": "BRYEq6WZoqQ7",
        "outputId": "0e657e8f-ede5-4315-cbf1-5b26ea6e6ed0"
      },
      "source": [
        "probabilistic_simulation(vaccine_n, infected_vaccine, placebo_n, infected_placebo)"
      ],
      "execution_count": 30,
      "outputs": [
        {
          "output_type": "stream",
          "text": [
            "Vaccine Efficacy using simulation:\n",
            "83.57070756582849\n",
            "Confidence Intervals = (63.412322267664024,93.54657358982605)\n"
          ],
          "name": "stdout"
        }
      ]
    },
    {
      "cell_type": "markdown",
      "metadata": {
        "id": "UAL9l5KItMtu"
      },
      "source": [
        "## Novavax vaccine - NVX-CoV2373\n",
        "\n",
        "Link to the press release [here](https://ir.novavax.com/news-releases/news-release-details/novavax-covid-19-vaccine-demonstrates-893-efficacy-uk-phase-3)"
      ]
    },
    {
      "cell_type": "code",
      "metadata": {
        "id": "YozeT91xtNYk",
        "colab": {
          "base_uri": "https://localhost:8080/"
        },
        "outputId": "cd654f75-a800-4f78-ffd9-1060b9b18368"
      },
      "source": [
        "vaccine_n = 15000/2\n",
        "infected_vaccine = 6\n",
        "placebo_n = 15000/2\n",
        "infected_placebo = 56\n",
        "\n",
        "efficacy_risk_ratio(vaccine_n, infected_vaccine, placebo_n, infected_placebo)"
      ],
      "execution_count": 31,
      "outputs": [
        {
          "output_type": "stream",
          "text": [
            "Vaccine Efficacy using relative risk:\n",
            "89.28571428571428\n"
          ],
          "name": "stdout"
        }
      ]
    },
    {
      "cell_type": "code",
      "metadata": {
        "colab": {
          "base_uri": "https://localhost:8080/"
        },
        "id": "L2XAkQMUtNm1",
        "outputId": "54acb978-a47a-4b8b-e402-642392462d9c"
      },
      "source": [
        "clopper_pearson(infected_vaccine, infected_placebo)"
      ],
      "execution_count": 32,
      "outputs": [
        {
          "output_type": "stream",
          "text": [
            "Confidence Intervals = (78.12435281547205,95.96520538091778)\n"
          ],
          "name": "stdout"
        }
      ]
    },
    {
      "cell_type": "code",
      "metadata": {
        "colab": {
          "base_uri": "https://localhost:8080/"
        },
        "id": "t8dlTjneoq9l",
        "outputId": "a9d82885-796f-4bbe-f887-b93918e7f714"
      },
      "source": [
        "probabilistic_simulation(vaccine_n, infected_vaccine, placebo_n, infected_placebo)"
      ],
      "execution_count": 33,
      "outputs": [
        {
          "output_type": "stream",
          "text": [
            "Vaccine Efficacy using simulation:\n",
            "88.31627685641676\n",
            "Confidence Intervals = (75.67528290381448,95.34086845240574)\n"
          ],
          "name": "stdout"
        }
      ]
    },
    {
      "cell_type": "markdown",
      "metadata": {
        "id": "P8VMQvaOtUcb"
      },
      "source": [
        "## Covaxin vaccine - BBV152\n",
        "\n",
        "Link to the press release [here](https://www.bharatbiotech.com/images/press/covaxin-phase3-efficacy-results.pdf)"
      ]
    },
    {
      "cell_type": "code",
      "metadata": {
        "id": "W54qcGZmtT0v",
        "colab": {
          "base_uri": "https://localhost:8080/"
        },
        "outputId": "1003cb01-0415-412d-a545-34da4cea1ce2"
      },
      "source": [
        "vaccine_n = 25800/2\n",
        "infected_vaccine = 7\n",
        "placebo_n = 25800/2\n",
        "infected_placebo = 36\n",
        "\n",
        "efficacy_risk_ratio(vaccine_n, infected_vaccine, placebo_n, infected_placebo)"
      ],
      "execution_count": 34,
      "outputs": [
        {
          "output_type": "stream",
          "text": [
            "Vaccine Efficacy using relative risk:\n",
            "80.55555555555556\n"
          ],
          "name": "stdout"
        }
      ]
    },
    {
      "cell_type": "code",
      "metadata": {
        "colab": {
          "base_uri": "https://localhost:8080/"
        },
        "id": "AMw18xhVtXqk",
        "outputId": "1d509c55-f4a5-4b90-d2f6-d5848323a385"
      },
      "source": [
        "clopper_pearson(infected_vaccine, infected_placebo)"
      ],
      "execution_count": 35,
      "outputs": [
        {
          "output_type": "stream",
          "text": [
            "Confidence Intervals = (63.97519838249748,91.80563602347911)\n"
          ],
          "name": "stdout"
        }
      ]
    },
    {
      "cell_type": "code",
      "metadata": {
        "colab": {
          "base_uri": "https://localhost:8080/"
        },
        "id": "VgvVJfvForrd",
        "outputId": "1834bea9-db4e-4b28-aaaa-bbeda7e614b0"
      },
      "source": [
        "probabilistic_simulation(vaccine_n, infected_vaccine, placebo_n, infected_placebo)"
      ],
      "execution_count": 36,
      "outputs": [
        {
          "output_type": "stream",
          "text": [
            "Vaccine Efficacy using simulation:\n",
            "79.67622786143498\n",
            "Confidence Intervals = (57.065395614050686,91.98938970807016)\n"
          ],
          "name": "stdout"
        }
      ]
    }
  ]
}